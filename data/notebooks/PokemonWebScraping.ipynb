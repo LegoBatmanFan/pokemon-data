{
  "nbformat": 4,
  "nbformat_minor": 0,
  "metadata": {
    "colab": {
      "name": "PokemonWebScraping.ipynb",
      "provenance": [],
      "collapsed_sections": []
    },
    "kernelspec": {
      "name": "python3",
      "display_name": "Python 3"
    },
    "language_info": {
      "name": "python"
    }
  },
  "cells": [
    {
      "cell_type": "markdown",
      "source": [
        "#**Creating Pokemon Data via Web Scraping**\n",
        "\n",
        "by Lena Horsley"
      ],
      "metadata": {
        "id": "93hUZ7S0Y4xb"
      }
    },
    {
      "cell_type": "code",
      "execution_count": null,
      "metadata": {
        "colab": {
          "base_uri": "https://localhost:8080/"
        },
        "id": "N5YZyNLOApZO",
        "outputId": "89b85ca0-d4ec-4537-ba44-7d5db5dd54a6"
      },
      "outputs": [
        {
          "output_type": "stream",
          "name": "stdout",
          "text": [
            "/bin/bash: conda: command not found\n"
          ]
        }
      ],
      "source": [
        "!conda install -c anaconda beautifulsoup4"
      ]
    },
    {
      "cell_type": "code",
      "source": [
        "import pandas as pd\n",
        "import numpy as np\n",
        "import re\n",
        "import requests\n",
        "from bs4 import BeautifulSoup"
      ],
      "metadata": {
        "id": "gLxKLWrAgjg2"
      },
      "execution_count": null,
      "outputs": []
    },
    {
      "cell_type": "code",
      "source": [
        "#Get the page\n",
        "#URL = \"https://serebii.net/pokemongo/gen1pokemon.shtml\"\n",
        "#URL = \"https://serebii.net/pokemongo/gen2pokemon.shtml\"\n",
        "#URL = \"https://serebii.net/pokemongo/gen3pokemon.shtml\"\n",
        "#URL = \"https://serebii.net/pokemongo/gen4pokemon.shtml\"\n",
        "#URL = \"https://serebii.net/pokemongo/gen5pokemon.shtml\"\n",
        "#URL = \"https://serebii.net/pokemongo/gen6pokemon.shtml\"\n",
        "#URL = \"https://serebii.net/pokemongo/gen7pokemon.shtml\"\n",
        "#URL = \"https://serebii.net/pokemongo/gen8pokemon.shtml\"\n",
        "#URL = \"https://serebii.net/pokemongo/unknownpokemon.shtml\"\n",
        "#URL = \"https://serebii.net/pokemongo/megaevolution.shtml\"\n",
        "URL = \"https://serebii.net/pokemongo/hisuipokemon.shtml\"\n",
        "\n",
        "page = requests.get(URL)\n",
        "\n",
        "soup = BeautifulSoup(page.content, \"html.parser\")\n"
      ],
      "metadata": {
        "id": "biIyq2sLFlbB"
      },
      "execution_count": null,
      "outputs": []
    },
    {
      "cell_type": "code",
      "source": [
        "#In reviewing the page source, we know the tables have the class \"tab.\" Let's get those...\n",
        "print('Classes of each table:')\n",
        "for table in soup.find_all(class_=\"tab\"):\n",
        "    print(table.get('class'))"
      ],
      "metadata": {
        "colab": {
          "base_uri": "https://localhost:8080/"
        },
        "id": "yluPajp9eukm",
        "outputId": "0aea6593-42c3-485e-d1be-f076e8c0fd4d"
      },
      "execution_count": null,
      "outputs": [
        {
          "output_type": "stream",
          "name": "stdout",
          "text": [
            "Classes of each table:\n",
            "['tab']\n",
            "['tab']\n"
          ]
        }
      ]
    },
    {
      "cell_type": "code",
      "source": [
        "# We want the second table in the list (it contains the pokemon data).\n",
        "# Use this little bit of code to check the table\n",
        "my_table = soup.find_all(class_=\"tab\")[1]\n",
        "#print(\"My table...\")\n",
        "#print(my_table)"
      ],
      "metadata": {
        "id": "EdbsELs3h5-G"
      },
      "execution_count": null,
      "outputs": []
    },
    {
      "cell_type": "code",
      "source": [
        "# Get all of the data from the table of interest and put it in a list\n",
        "raw_data_list = []\n",
        "\n",
        "for sibling in soup.find_all(class_=\"tab\")[1].tr.next_siblings:\n",
        "  raw_data_list.append(sibling)\n",
        "\n",
        "print(\"My list: \", len(raw_data_list))"
      ],
      "metadata": {
        "colab": {
          "base_uri": "https://localhost:8080/"
        },
        "id": "BeCCb0jIkVNF",
        "outputId": "6ba37007-5439-4cbf-cdaa-23950c037fb5"
      },
      "execution_count": null,
      "outputs": [
        {
          "output_type": "stream",
          "name": "stdout",
          "text": [
            "My list:  18\n"
          ]
        }
      ]
    },
    {
      "cell_type": "code",
      "source": [
        "# By inspecting the soup object we know there's some stuff we need to remove\n",
        "#raw_data_list[4]"
      ],
      "metadata": {
        "id": "N9s0H3Hf1f3z"
      },
      "execution_count": null,
      "outputs": []
    },
    {
      "cell_type": "code",
      "source": [
        "# Remove the new line chracters. This list contains our data!\n",
        "clean_data_list = list(filter(lambda x: x!= \"\\n\", raw_data_list))\n",
        "len(clean_data_list)"
      ],
      "metadata": {
        "colab": {
          "base_uri": "https://localhost:8080/"
        },
        "id": "-lp8WfmF2YCP",
        "outputId": "e91a73fd-a3bd-4dc4-b498-bf87b8dd8d00"
      },
      "execution_count": null,
      "outputs": [
        {
          "output_type": "execute_result",
          "data": {
            "text/plain": [
              "9"
            ]
          },
          "metadata": {},
          "execution_count": 8
        }
      ]
    },
    {
      "cell_type": "code",
      "source": [
        "#This method organizes the types and moves data for one pokemon\n",
        "def organize_pokemon_info(my_link_urls):\n",
        "    my_pokemon_info = []\n",
        "      #print(list_index)\n",
        "\n",
        "    pokemon_moves = \"\"  \n",
        "    pokemon_type = \"\"\n",
        "      #pokemon_name = \" \"\n",
        "    substring = \"moves.shtml\"\n",
        "    for list_index in range(0, len(my_link_urls)):\n",
        "      \n",
        "      if (list_index == 0):\n",
        "        pokemon_tokens = (re.split('\\W',my_link_urls[list_index][\"href\"]))\n",
        "        pokedex = pokemon_tokens[3]\n",
        "\n",
        "      elif (list_index == 1):\n",
        "        pokemon_name = my_link_urls[list_index].text\n",
        "      \n",
        "      elif (substring in my_link_urls[list_index][\"href\"]):\n",
        "        my_moves = my_link_urls[list_index].text\n",
        "        pokemon_moves = pokemon_moves + \" \" + my_moves + \",\"\n",
        "\n",
        "      else:\n",
        "        pokemon_link_info = (re.split('\\W',my_link_urls[list_index][\"href\"]))\n",
        "        my_type = pokemon_link_info[3]\n",
        "        pokemon_type = pokemon_type + \" \" + my_type + \" \"\n",
        "      \n",
        "      my_type = \"\"\n",
        "      my_moves = \"\"\n",
        "      \n",
        "    my_pokemon_info.append(pokedex)\n",
        "    my_pokemon_info.append(pokemon_name)\n",
        "    my_pokemon_info.append(pokemon_type)\n",
        "    my_pokemon_info.append(pokemon_moves)\n",
        "\n",
        "    return my_pokemon_info"
      ],
      "metadata": {
        "id": "dLBVYK1jVBf9"
      },
      "execution_count": null,
      "outputs": []
    },
    {
      "cell_type": "code",
      "source": [
        "#Get the region based on the web link. this version of Python doesn't have a switch statement, so you need to use a \n",
        "#dictionary\n",
        "def get_pokemon_region(my_pokemon_region):\n",
        "\n",
        "  switcher = {\n",
        "        \"gen1pokemon\": \"Kanto\",\n",
        "        \"gen2pokemon\": \"Johto\",\n",
        "        \"gen3pokemon\": \"Hoenn\",\n",
        "        \"gen4pokemon\": \"Sinnoh\",\n",
        "        \"gen5pokemon\": \"Unova\",\n",
        "        \"gen6pokemon\": \"Kalos\",\n",
        "        \"gen7pokemon\": \"Alola\",\n",
        "        \"gen8pokemon\": \"Galar\",\n",
        "        \"unknownpokemon\": \"unknown\",\n",
        "        \"megaevolution\": \"Mega-Evolution\",\n",
        "        \"hisuipokemon\": \"Hisui\",\n",
        "    }\n",
        " \n",
        "    # get() method of dictionary data type returns\n",
        "    # value of passed argument if it is present\n",
        "    # in dictionary otherwise second argument will\n",
        "    # be assigned as default value of passed argument\n",
        "  return switcher.get(my_pokemon_region, \"unknown\")"
      ],
      "metadata": {
        "id": "hJY6NI-aji8R"
      },
      "execution_count": null,
      "outputs": []
    },
    {
      "cell_type": "code",
      "source": [
        "pokedex_list = []\n",
        "\n",
        "url_tokens = (re.split('\\W',URL))\n",
        "pokemon_region = get_pokemon_region(url_tokens[6])\n",
        "\n",
        "for index in range(0, len(clean_data_list)):\n",
        "  #Get the links for the pokemon...the links contain the moves and types data\n",
        "  link_urls = clean_data_list[index].find_all(\"a\")\n",
        "\n",
        "  #Now get the stats (columns in the web page)\n",
        "  check_pokemon_stats = clean_data_list[index].find_all(\"tr\")\n",
        "\n",
        "  pokemon_info = organize_pokemon_info(link_urls)\n",
        "\n",
        "  #Add the stats to the pokemon\n",
        "  for i in range(1, len(check_pokemon_stats)):\n",
        "    pokemon_info.append(check_pokemon_stats[i].find_all(\"td\")[1].text)\n",
        "\n",
        "  #Add the region\n",
        "  pokemon_info.append(pokemon_region)\n",
        "  \n",
        "  #Add the pokemon to the pokedex\n",
        "  pokedex_list.append(pokemon_info)\n",
        "\n",
        "#Now, add the column names\n",
        "pokedex_dataframe = pd.DataFrame(pokedex_list, columns =['num','name','poke_type','attacks','hp','attack','defense','max_cp','max_buddy_cp','region'])"
      ],
      "metadata": {
        "id": "-ksQy7qCucYt"
      },
      "execution_count": null,
      "outputs": []
    },
    {
      "cell_type": "code",
      "source": [
        "pokedex_dataframe"
      ],
      "metadata": {
        "colab": {
          "base_uri": "https://localhost:8080/",
          "height": 376
        },
        "id": "KasDb5KYwKI-",
        "outputId": "e378e54f-2058-4a4c-a128-3da3ba2c6c21"
      },
      "execution_count": null,
      "outputs": [
        {
          "output_type": "execute_result",
          "data": {
            "text/plain": [
              "   num         name           poke_type attacks   hp attack defense max_cp  \\\n",
              "0  899      Wyrdeer    normal  psychic           230    206     145   3089   \n",
              "1  900      Kleavor          bug  rock           172    253     174   3557   \n",
              "2  901     Ursaluna     ground  normal           277    243     181   4358   \n",
              "3  902  Basculegion       water  ghost           260    217     144   3425   \n",
              "4  902  Basculegion       water  ghost           260    199     144   3159   \n",
              "5  903     Sneasler   fighting  poison           190    259     158   3643   \n",
              "6  904     Overqwil       dark  poison           198    222     171   3330   \n",
              "7  905     Enamorus      fairy  flying           179    281     162   3872   \n",
              "8  905     Enamorus      fairy  flying           179    250     201   3830   \n",
              "\n",
              "  max_buddy_cp region  \n",
              "0         3126  Hisui  \n",
              "1         3600  Hisui  \n",
              "2         4410  Hisui  \n",
              "3         3466  Hisui  \n",
              "4         3197  Hisui  \n",
              "5         3687  Hisui  \n",
              "6         3370  Hisui  \n",
              "7         3919  Hisui  \n",
              "8         3876  Hisui  "
            ],
            "text/html": [
              "\n",
              "  <div id=\"df-d5dd31f0-f2fe-4bbd-9810-be015fba8caf\">\n",
              "    <div class=\"colab-df-container\">\n",
              "      <div>\n",
              "<style scoped>\n",
              "    .dataframe tbody tr th:only-of-type {\n",
              "        vertical-align: middle;\n",
              "    }\n",
              "\n",
              "    .dataframe tbody tr th {\n",
              "        vertical-align: top;\n",
              "    }\n",
              "\n",
              "    .dataframe thead th {\n",
              "        text-align: right;\n",
              "    }\n",
              "</style>\n",
              "<table border=\"1\" class=\"dataframe\">\n",
              "  <thead>\n",
              "    <tr style=\"text-align: right;\">\n",
              "      <th></th>\n",
              "      <th>num</th>\n",
              "      <th>name</th>\n",
              "      <th>poke_type</th>\n",
              "      <th>attacks</th>\n",
              "      <th>hp</th>\n",
              "      <th>attack</th>\n",
              "      <th>defense</th>\n",
              "      <th>max_cp</th>\n",
              "      <th>max_buddy_cp</th>\n",
              "      <th>region</th>\n",
              "    </tr>\n",
              "  </thead>\n",
              "  <tbody>\n",
              "    <tr>\n",
              "      <th>0</th>\n",
              "      <td>899</td>\n",
              "      <td>Wyrdeer</td>\n",
              "      <td>normal  psychic</td>\n",
              "      <td></td>\n",
              "      <td>230</td>\n",
              "      <td>206</td>\n",
              "      <td>145</td>\n",
              "      <td>3089</td>\n",
              "      <td>3126</td>\n",
              "      <td>Hisui</td>\n",
              "    </tr>\n",
              "    <tr>\n",
              "      <th>1</th>\n",
              "      <td>900</td>\n",
              "      <td>Kleavor</td>\n",
              "      <td>bug  rock</td>\n",
              "      <td></td>\n",
              "      <td>172</td>\n",
              "      <td>253</td>\n",
              "      <td>174</td>\n",
              "      <td>3557</td>\n",
              "      <td>3600</td>\n",
              "      <td>Hisui</td>\n",
              "    </tr>\n",
              "    <tr>\n",
              "      <th>2</th>\n",
              "      <td>901</td>\n",
              "      <td>Ursaluna</td>\n",
              "      <td>ground  normal</td>\n",
              "      <td></td>\n",
              "      <td>277</td>\n",
              "      <td>243</td>\n",
              "      <td>181</td>\n",
              "      <td>4358</td>\n",
              "      <td>4410</td>\n",
              "      <td>Hisui</td>\n",
              "    </tr>\n",
              "    <tr>\n",
              "      <th>3</th>\n",
              "      <td>902</td>\n",
              "      <td>Basculegion</td>\n",
              "      <td>water  ghost</td>\n",
              "      <td></td>\n",
              "      <td>260</td>\n",
              "      <td>217</td>\n",
              "      <td>144</td>\n",
              "      <td>3425</td>\n",
              "      <td>3466</td>\n",
              "      <td>Hisui</td>\n",
              "    </tr>\n",
              "    <tr>\n",
              "      <th>4</th>\n",
              "      <td>902</td>\n",
              "      <td>Basculegion</td>\n",
              "      <td>water  ghost</td>\n",
              "      <td></td>\n",
              "      <td>260</td>\n",
              "      <td>199</td>\n",
              "      <td>144</td>\n",
              "      <td>3159</td>\n",
              "      <td>3197</td>\n",
              "      <td>Hisui</td>\n",
              "    </tr>\n",
              "    <tr>\n",
              "      <th>5</th>\n",
              "      <td>903</td>\n",
              "      <td>Sneasler</td>\n",
              "      <td>fighting  poison</td>\n",
              "      <td></td>\n",
              "      <td>190</td>\n",
              "      <td>259</td>\n",
              "      <td>158</td>\n",
              "      <td>3643</td>\n",
              "      <td>3687</td>\n",
              "      <td>Hisui</td>\n",
              "    </tr>\n",
              "    <tr>\n",
              "      <th>6</th>\n",
              "      <td>904</td>\n",
              "      <td>Overqwil</td>\n",
              "      <td>dark  poison</td>\n",
              "      <td></td>\n",
              "      <td>198</td>\n",
              "      <td>222</td>\n",
              "      <td>171</td>\n",
              "      <td>3330</td>\n",
              "      <td>3370</td>\n",
              "      <td>Hisui</td>\n",
              "    </tr>\n",
              "    <tr>\n",
              "      <th>7</th>\n",
              "      <td>905</td>\n",
              "      <td>Enamorus</td>\n",
              "      <td>fairy  flying</td>\n",
              "      <td></td>\n",
              "      <td>179</td>\n",
              "      <td>281</td>\n",
              "      <td>162</td>\n",
              "      <td>3872</td>\n",
              "      <td>3919</td>\n",
              "      <td>Hisui</td>\n",
              "    </tr>\n",
              "    <tr>\n",
              "      <th>8</th>\n",
              "      <td>905</td>\n",
              "      <td>Enamorus</td>\n",
              "      <td>fairy  flying</td>\n",
              "      <td></td>\n",
              "      <td>179</td>\n",
              "      <td>250</td>\n",
              "      <td>201</td>\n",
              "      <td>3830</td>\n",
              "      <td>3876</td>\n",
              "      <td>Hisui</td>\n",
              "    </tr>\n",
              "  </tbody>\n",
              "</table>\n",
              "</div>\n",
              "      <button class=\"colab-df-convert\" onclick=\"convertToInteractive('df-d5dd31f0-f2fe-4bbd-9810-be015fba8caf')\"\n",
              "              title=\"Convert this dataframe to an interactive table.\"\n",
              "              style=\"display:none;\">\n",
              "        \n",
              "  <svg xmlns=\"http://www.w3.org/2000/svg\" height=\"24px\"viewBox=\"0 0 24 24\"\n",
              "       width=\"24px\">\n",
              "    <path d=\"M0 0h24v24H0V0z\" fill=\"none\"/>\n",
              "    <path d=\"M18.56 5.44l.94 2.06.94-2.06 2.06-.94-2.06-.94-.94-2.06-.94 2.06-2.06.94zm-11 1L8.5 8.5l.94-2.06 2.06-.94-2.06-.94L8.5 2.5l-.94 2.06-2.06.94zm10 10l.94 2.06.94-2.06 2.06-.94-2.06-.94-.94-2.06-.94 2.06-2.06.94z\"/><path d=\"M17.41 7.96l-1.37-1.37c-.4-.4-.92-.59-1.43-.59-.52 0-1.04.2-1.43.59L10.3 9.45l-7.72 7.72c-.78.78-.78 2.05 0 2.83L4 21.41c.39.39.9.59 1.41.59.51 0 1.02-.2 1.41-.59l7.78-7.78 2.81-2.81c.8-.78.8-2.07 0-2.86zM5.41 20L4 18.59l7.72-7.72 1.47 1.35L5.41 20z\"/>\n",
              "  </svg>\n",
              "      </button>\n",
              "      \n",
              "  <style>\n",
              "    .colab-df-container {\n",
              "      display:flex;\n",
              "      flex-wrap:wrap;\n",
              "      gap: 12px;\n",
              "    }\n",
              "\n",
              "    .colab-df-convert {\n",
              "      background-color: #E8F0FE;\n",
              "      border: none;\n",
              "      border-radius: 50%;\n",
              "      cursor: pointer;\n",
              "      display: none;\n",
              "      fill: #1967D2;\n",
              "      height: 32px;\n",
              "      padding: 0 0 0 0;\n",
              "      width: 32px;\n",
              "    }\n",
              "\n",
              "    .colab-df-convert:hover {\n",
              "      background-color: #E2EBFA;\n",
              "      box-shadow: 0px 1px 2px rgba(60, 64, 67, 0.3), 0px 1px 3px 1px rgba(60, 64, 67, 0.15);\n",
              "      fill: #174EA6;\n",
              "    }\n",
              "\n",
              "    [theme=dark] .colab-df-convert {\n",
              "      background-color: #3B4455;\n",
              "      fill: #D2E3FC;\n",
              "    }\n",
              "\n",
              "    [theme=dark] .colab-df-convert:hover {\n",
              "      background-color: #434B5C;\n",
              "      box-shadow: 0px 1px 3px 1px rgba(0, 0, 0, 0.15);\n",
              "      filter: drop-shadow(0px 1px 2px rgba(0, 0, 0, 0.3));\n",
              "      fill: #FFFFFF;\n",
              "    }\n",
              "  </style>\n",
              "\n",
              "      <script>\n",
              "        const buttonEl =\n",
              "          document.querySelector('#df-d5dd31f0-f2fe-4bbd-9810-be015fba8caf button.colab-df-convert');\n",
              "        buttonEl.style.display =\n",
              "          google.colab.kernel.accessAllowed ? 'block' : 'none';\n",
              "\n",
              "        async function convertToInteractive(key) {\n",
              "          const element = document.querySelector('#df-d5dd31f0-f2fe-4bbd-9810-be015fba8caf');\n",
              "          const dataTable =\n",
              "            await google.colab.kernel.invokeFunction('convertToInteractive',\n",
              "                                                     [key], {});\n",
              "          if (!dataTable) return;\n",
              "\n",
              "          const docLinkHtml = 'Like what you see? Visit the ' +\n",
              "            '<a target=\"_blank\" href=https://colab.research.google.com/notebooks/data_table.ipynb>data table notebook</a>'\n",
              "            + ' to learn more about interactive tables.';\n",
              "          element.innerHTML = '';\n",
              "          dataTable['output_type'] = 'display_data';\n",
              "          await google.colab.output.renderOutput(dataTable, element);\n",
              "          const docLink = document.createElement('div');\n",
              "          docLink.innerHTML = docLinkHtml;\n",
              "          element.appendChild(docLink);\n",
              "        }\n",
              "      </script>\n",
              "    </div>\n",
              "  </div>\n",
              "  "
            ]
          },
          "metadata": {},
          "execution_count": 12
        }
      ]
    },
    {
      "cell_type": "code",
      "source": [
        "#Add type1, type2, boost1, boost2, and boost columns\n",
        "pokedex_dataframe['type1'] = \"\"\n",
        "pokedex_dataframe['type2'] = \"\"\n",
        "\n",
        "#This works like a switch statement\n",
        "replacements = {\n",
        "  r'.*grass.*': 'sunny/clear',\n",
        "  r'.*ground.*': 'sunny/clear',\n",
        "  r'.*fire.*': 'sunny/clear',\n",
        "  r'.*water.*': 'rain',\n",
        "  r'.*electric.*': 'rain',\n",
        "  r'.*bug.*': 'rain',\n",
        "  r'.*normal.*': 'partly cloudy',\n",
        "  r'.*rock.*': 'partly cloudy',\n",
        "  r'.*fairy.*': 'cloudy',\n",
        "  r'.*fight.*': 'cloudy',\n",
        "  r'.*poison.*': 'cloudy',\n",
        "  r'.*dragon.*': 'windy',\n",
        "  r'.*flying.*': 'windy',\n",
        "  r'.*psychic.*': 'windy',\n",
        "  r'.*ice.*': 'snow',\n",
        "  r'.*steel.*': 'snow',\n",
        "  r'.*dark.*': 'fog',\n",
        "  r'.*ghost.*': 'fog'\n",
        "}\n",
        "\n",
        "pokedex_dataframe['boost1'] = \"\"\n",
        "pokedex_dataframe['boost2'] = \"\"\n",
        "pokedex_dataframe['boost'] = \"\"\n",
        "\n",
        "#Split poke_type into type1 and type2\n",
        "for index in pokedex_dataframe.index:\n",
        "    weather_boost_string = ''\n",
        "    type_tokens = pokedex_dataframe['poke_type'][index].split()\n",
        "    if len(type_tokens) == 2:\n",
        "      pokedex_dataframe['type1'][index] = type_tokens[0]\n",
        "      pokedex_dataframe['type2'][index] = type_tokens[1]\n",
        "    elif len(type_tokens) == 1:\n",
        "      pokedex_dataframe['type1'][index] = type_tokens[0]\n",
        "      pokedex_dataframe['type2'][index] = \"\"\n",
        "    else:\n",
        "      pokedex_dataframe['type1'][index] = \"\"\n",
        "      pokedex_dataframe['type2'][index] = \"\"\n",
        "\n",
        "#Create boost1 from type1. Create boost2 from type2\n",
        "pokedex_dataframe['boost1'] = pokedex_dataframe.type1.replace(replacements, regex=True)\n",
        "pokedex_dataframe['boost2'] = pokedex_dataframe.type2.replace(replacements, regex=True)\n",
        "\n",
        "#Create boost from boost1 and boost2\n",
        "pokedex_dataframe['boost'] = pokedex_dataframe['boost1'] + \" \" + pokedex_dataframe['boost2']\n",
        "\n",
        "pokedex_dataframe\n",
        "pokedex_dataframe.to_csv(pokemon_region + \".csv\", index=False)"
      ],
      "metadata": {
        "id": "izZheABogGsA"
      },
      "execution_count": null,
      "outputs": []
    },
    {
      "cell_type": "markdown",
      "source": [
        "References\n",
        "* [Beautiful Soup: Build a Web Scraper With Python](https://realpython.com/beautiful-soup-web-scraper-python/)\n",
        "* [A Practical Introduction to Web Scraping in Python](https://realpython.com/python-web-scraping-practical-introduction/)\n",
        "* [Jupiter notebook and BeautifulSoup4 installation](https://stackoverflow.com/questions/54781462/jupiter-notebook-and-beautifulsoup4-installation)\n",
        "* [List of Pokémon by National Pokédex number](https://bulbapedia.bulbagarden.net/wiki/List_of_Pok%C3%A9mon_by_National_Pok%C3%A9dex_number)\n",
        "* [A Guide to Scraping HTML Tables with Pandas and BeautifulSoup](https://towardsdatascience.com/a-guide-to-scraping-html-tables-with-pandas-and-beautifulsoup-7fc24c331cf7)\n",
        "* [Is there a simple way to delete a list element by value?](https://stackoverflow.com/questions/2793324/is-there-a-simple-way-to-delete-a-list-element-by-value)\n",
        "* [Split string with multiple delimiters in Python [duplicate]](https://stackoverflow.com/questions/4998629/split-string-with-multiple-delimiters-in-python)\n",
        "* [How to use multiple cases in Match (switch in other languages) cases in Python 3.10](https://stackoverflow.com/questions/69642889/how-to-use-multiple-cases-in-match-switch-in-other-languages-cases-in-python-3)\n",
        "* [What is the syntactical equivalent to switch/case in Python? [duplicate]](https://stackoverflow.com/questions/66877130/what-is-the-syntactical-equivalent-to-switch-case-in-python)\n",
        "* [Python: Check if String Contains Substring](https://stackabuse.com/python-check-if-string-contains-substring/)\n",
        "* [How to add one row in an existing Pandas DataFrame?](https://www.geeksforgeeks.org/how-to-add-one-row-in-an-existing-pandas-dataframe/)\n",
        "* [How to append a list as a row to a Pandas DataFrame in Python?](https://www.geeksforgeeks.org/how-to-append-a-list-as-a-row-to-a-pandas-dataframe-in-python/)\n",
        "* [Create a Pandas DataFrame from Lists](https://www.geeksforgeeks.org/create-a-pandas-dataframe-from-lists/)\n",
        "* [Assign value to a pandas dataframe column based on string condition](https://stackoverflow.com/questions/36701689/assign-value-to-a-pandas-dataframe-column-based-on-string-condition)"
      ],
      "metadata": {
        "id": "A_SmAh4jcs_s"
      }
    }
  ]
}